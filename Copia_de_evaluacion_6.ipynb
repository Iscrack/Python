{
  "nbformat": 4,
  "nbformat_minor": 0,
  "metadata": {
    "colab": {
      "name": "Copia de evaluacion 6.ipynb",
      "provenance": [],
      "collapsed_sections": [],
      "include_colab_link": true
    },
    "kernelspec": {
      "name": "python3",
      "display_name": "Python 3"
    },
    "language_info": {
      "name": "python"
    }
  },
  "cells": [
    {
      "cell_type": "markdown",
      "metadata": {
        "id": "view-in-github",
        "colab_type": "text"
      },
      "source": [
        "<a href=\"https://colab.research.google.com/github/Iscrack/Python/blob/main/Copia_de_evaluacion_6.ipynb\" target=\"_parent\"><img src=\"https://colab.research.google.com/assets/colab-badge.svg\" alt=\"Open In Colab\"/></a>"
      ]
    },
    {
      "cell_type": "markdown",
      "source": [
        "# 6 Práctica\n",
        "Sentencias condicionales. (6 puntos)\n",
        "\n",
        "## Ejercicio 1 (1.5 puntos)\n",
        "Realizar un ejemplo de menú, donde podemos escoger las distintas opciones hasta que seleccionamos la opción de “Salir”.\n",
        "\n",
        "Menú de recomendaciones\n",
        "\n",
        "* Literatura\n",
        "* Cine\n",
        "* Música\n",
        "* Videojuegos\n",
        "* Salir\n",
        "\n",
        "Al ingresar una opcion\n",
        "\n",
        "opcion 1:\n",
        "\n",
        "Lecturas recomendables:\n",
        "\n",
        "* Esperándolo a Tito y otros cuentos de fútbol (Eduardo Sacheri)\n",
        "* El juego de Ender (Orson Scott Card)\n",
        "* El sueño de los héroes (Adolfo Bioy Casares)\n",
        "\n",
        "opcion 2:\n",
        "\n",
        "Películas recomendables:\n",
        "\n",
        "* Matrix (1999)\n",
        "* El último samuray (2003)\n",
        "* Cars (2006)\n",
        "\n",
        "opcion 3:\n",
        "\n",
        "Discos recomendables:\n",
        "\n",
        "* Despedazado por mil partes (La Renga, 1996)\n",
        "* Búfalo (La Mississippi, 2008)\n",
        "* Gaia (Mago de Oz, 2003)\n",
        "\n",
        "opcion 4:\n",
        "\n",
        "* Videojuegos clásicos recomendables\n",
        "* Día del tentáculo (LucasArts, 1993)\n",
        "* Terminal Velocity (Terminal Reality/3D Realms, 1995)\n",
        "* Death Rally (Remedy/Apogee, 1996)\n",
        "\n",
        "opcion 5:\n",
        "\n",
        "Gracias, vuelva prontos\n",
        "\n",
        "Opción no válida, en caso de ingresar un número fuera de las opciones\n",
        "\n"
      ],
      "metadata": {
        "id": "uvxPhEvyOpzM"
      }
    },
    {
      "cell_type": "code",
      "execution_count": null,
      "metadata": {
        "id": "3PNomPUSOpRw"
      },
      "outputs": [],
      "source": [
        "#Tu codigo aqui\n",
        "print(\"\"\"Menú de recomendaciones:\n",
        "Opción 1: Literatura\n",
        "Opción 2: Cine\n",
        "Opción 3: Música\n",
        "Opción 4: Videojuegos\n",
        "Opción 5: Salir\"\"\")\n",
        "\n",
        "opcion = int(input('Ingrese el número de la opción deseada: '))\n",
        "\n",
        "  \n",
        "while opcion >= 1 and opcion < 5:\n",
        "  print('Opción no válida') \n",
        "  \n",
        "  if opcion == 1:\n",
        "    print(\"\"\" Lecturas recomendables:\n",
        "    Esperándolo a Tito y otros cuentos de fútbol (Eduardo Sacheri)\n",
        "    El juego de Ender (Orson Scott Card)\n",
        "    El sueño de los héroes (Adolfo Bioy Casares)\"\"\")\n",
        "\n",
        "    opcion = int(input('Ingrese el número de la opción deseada: '))\n",
        "\n",
        "  if opcion == 2:\n",
        "    print(\"\"\" Películas recomendables:\n",
        "    Matrix (1999)\n",
        "    El último samuray (2003)\n",
        "    Cars (2006)\"\"\")\n",
        "\n",
        "    opcion = int(input('Ingrese el número de la opción deseada: '))\n",
        "    \n",
        "  elif opcion == 3:\n",
        "    print(\"\"\" Discos recomendables:\n",
        "    Despedazado por mil partes (La Renga, 1996)\n",
        "    Búfalo (La Mississippi, 2008)\n",
        "    Gaia (Mago de Oz, 2003)\"\"\")\n",
        "\n",
        "    opcion = int(input('Ingrese el número de la opción deseada: '))\n",
        "\n",
        "  elif opcion == 4:\n",
        "    print(\"\"\" Videojuegos clásicos recomendables:\n",
        "    Día del tentáculo (LucasArts, 1993)\n",
        "    Terminal Velocity (Terminal Reality/3D Realms, 1995)\n",
        "    Death Rally (Remedy/Apogee, 1996)\"\"\")\n",
        "\n",
        "    opcion = int(input('Ingrese el número de la opción deseada: '))\n",
        "    \n",
        "if opcion == 5 or opcion>5:\n",
        "  print('Gracias, vuelva pronto')\n",
        "\n",
        "\n"
      ]
    },
    {
      "cell_type": "markdown",
      "source": [
        "## Ejercicio 2 (1.5 puntos)\n",
        "Se pide por teclado un número y nos imprime los números primos que hay previos a este número.\n",
        "\n",
        "Ejemplo: si ingresamos el 10 nos imprima del 1 a ese 10 cuales números son primos.\n"
      ],
      "metadata": {
        "id": "hwpI5TwUPMNa"
      }
    },
    {
      "cell_type": "code",
      "source": [
        "#Tu codigo aqui\n",
        "\n",
        "print('Ingrese un número entero cualquiera y le devolveremos los números primos previos a este')\n",
        "\n",
        "num = int(input('Ingrese un número cualquiera: '))\n",
        "\n",
        "if num>0:\n",
        "  for lista in range(2, num):\n",
        "    p=2\n",
        "    num_primo = True\n",
        "    while num_primo and p < lista:\n",
        "      if lista % p == 0:\n",
        "        num_primo = False\n",
        "      else: \n",
        "        p += 1 \n",
        "    if num_primo:\n",
        "      print(lista)   \n",
        "else:\n",
        "  print('El número es incorrecto, inténtelo nuevamente.')"
      ],
      "metadata": {
        "id": "ELOJ3KXiaE3_"
      },
      "execution_count": null,
      "outputs": []
    },
    {
      "cell_type": "markdown",
      "source": [
        "\n",
        "## Ejercicio 3 (1.5 puntos)\n",
        "Una persona adquirió un producto para pagar en 20 meses. El primer mes pagó 10 €, el segundo 20 €, el tercero 40 € y así sucesivamente. Realizar un algoritmo para determinar cuánto debe pagar mensualmente y el total de lo que pagó después de los 20 meses.\n",
        "\n",
        "Al finalizar los 20 meses pago en total:\n",
        "\n",
        "primer mes pago 10, segundo mes pago 20, tercer mes pago 30, cuarto mes pago 40, etc."
      ],
      "metadata": {
        "id": "OFocRk5oPSqp"
      }
    },
    {
      "cell_type": "code",
      "source": [
        "#Tu codigo aqui\n",
        "\n",
        "print('Pago de parcialidades')\n",
        "mes=0\n",
        "total=0\n",
        "\n",
        "for i in range(1,21):\n",
        "  if i==0:\n",
        "    mes=10\n",
        "  else:\n",
        "    mes=mes*2\n",
        "    print(f'El pago del mes {i}, es de de $ {mes}')\n",
        "    total=total+mes\n",
        "\n",
        "print(f'El pago total es de $: {total}')\n",
        " \n"
      ],
      "metadata": {
        "id": "bV0ApoCHPU_Z",
        "outputId": "859eea90-4aa9-430b-823a-6312e57cc871",
        "colab": {
          "base_uri": "https://localhost:8080/"
        }
      },
      "execution_count": 20,
      "outputs": [
        {
          "output_type": "stream",
          "name": "stdout",
          "text": [
            "Pago de parcialidades\n",
            "El pago del mes 1, es de de $ 0\n",
            "El pago del mes 2, es de de $ 0\n",
            "El pago del mes 3, es de de $ 0\n",
            "El pago del mes 4, es de de $ 0\n",
            "El pago del mes 5, es de de $ 0\n",
            "El pago del mes 6, es de de $ 0\n",
            "El pago del mes 7, es de de $ 0\n",
            "El pago del mes 8, es de de $ 0\n",
            "El pago del mes 9, es de de $ 0\n",
            "El pago del mes 10, es de de $ 0\n",
            "El pago del mes 11, es de de $ 0\n",
            "El pago del mes 12, es de de $ 0\n",
            "El pago del mes 13, es de de $ 0\n",
            "El pago del mes 14, es de de $ 0\n",
            "El pago del mes 15, es de de $ 0\n",
            "El pago del mes 16, es de de $ 0\n",
            "El pago del mes 17, es de de $ 0\n",
            "El pago del mes 18, es de de $ 0\n",
            "El pago del mes 19, es de de $ 0\n",
            "El pago del mes 20, es de de $ 0\n",
            "El pago total es de $: 0\n"
          ]
        }
      ]
    }
  ]
}