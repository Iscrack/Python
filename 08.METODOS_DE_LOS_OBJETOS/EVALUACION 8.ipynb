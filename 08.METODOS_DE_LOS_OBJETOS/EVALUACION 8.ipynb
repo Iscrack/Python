{
  "nbformat": 4,
  "nbformat_minor": 0,
  "metadata": {
    "colab": {
      "provenance": [],
      "authorship_tag": "ABX9TyPRVGGs3nC/CSp/DY+cHZQh",
      "include_colab_link": true
    },
    "kernelspec": {
      "name": "python3",
      "display_name": "Python 3"
    },
    "language_info": {
      "name": "python"
    }
  },
  "cells": [
    {
      "cell_type": "markdown",
      "metadata": {
        "id": "view-in-github",
        "colab_type": "text"
      },
      "source": [
        "<a href=\"https://colab.research.google.com/github/Iscrack/Python/blob/main/08.METODOS_DE_LOS_OBJETOS/EVALUACION%208.ipynb\" target=\"_parent\"><img src=\"https://colab.research.google.com/assets/colab-badge.svg\" alt=\"Open In Colab\"/></a>"
      ]
    },
    {
      "cell_type": "markdown",
      "source": [
        "# Práctica 8. (6 puntos)"
      ],
      "metadata": {
        "id": "tp1MgSojyX-T"
      }
    },
    {
      "cell_type": "markdown",
      "source": [
        "## Ejercicio 1 (2 puntos)\n",
        "Escribe un programa python que pida un número por teclado y que cree un\n",
        "diccionario cuyas claves sean desde el número 1 hasta el número indicado, y los\n",
        "valores sean los cuadrados de las claves.\n",
        "\n",
        "Ejemplo: si se ingresa el 4 imprima el cuadrado de 1, de 2, de 3 y de 4"
      ],
      "metadata": {
        "id": "iWnxA4y2ybsK"
      }
    },
    {
      "cell_type": "code",
      "source": [
        "ingresado=int(input('Ingresa un número para conocer el doble de este y de sus antecesores. El número es: '))\n",
        "numeros={}\n",
        "for num in range(1,ingresado+1):\n",
        "  numeros[num]=num*num\n",
        "for num,doble in numeros.items():\n",
        "  print(num,'=', doble)"
      ],
      "metadata": {
        "id": "THpXkvoMyvbf"
      },
      "execution_count": null,
      "outputs": []
    },
    {
      "cell_type": "markdown",
      "source": [
        "\n",
        "## Ejercicio 2 (2 puntos)\n",
        "Escribe un programa que lea una cadena y devuelva un diccionario con la\n",
        "cantidad de apariciones de cada carácter en la cadena.\n",
        "\n",
        "Ejemplo: si se ingresa \"paloma\" p=1 a=2 l=1 o=1 m=1"
      ],
      "metadata": {
        "id": "qE7yx5f3yb5M"
      }
    },
    {
      "cell_type": "code",
      "source": [
        "diccionario={}\n",
        "palabra = input('Ingresa una palabra: ')\n",
        "for i in palabra:\n",
        "  if i in diccionario:\n",
        "    diccionario[i]+=1  \n",
        "  else:\n",
        "    diccionario[i]=1\n",
        "\n",
        "for espacio, valor in diccionario.items():\n",
        "  print(espacio, ' _ ', valor)"
      ],
      "metadata": {
        "id": "9npZQ-2fywIU"
      },
      "execution_count": null,
      "outputs": []
    },
    {
      "cell_type": "markdown",
      "source": [
        "## Ejercicio 3 (2 puntos)\n",
        "Vamos a crear un programa en python donde vamos a declarar un diccionario para\n",
        "guardar los precios de las distintas frutas. El programa pedirá el nombre de la fruta\n",
        "y la cantidad que se ha vendido y nos mostrará el precio final de la fruta a partir de\n",
        "los datos guardados en el diccionario. Si la fruta no existe nos dará un error. Tras\n",
        "cada consulta el programa nos preguntará si queremos hacer otra consulta.|"
      ],
      "metadata": {
        "id": "8s3SDZ7GycbX"
      }
    },
    {
      "cell_type": "code",
      "execution_count": null,
      "metadata": {
        "id": "25tWd6g0yO8T"
      },
      "outputs": [],
      "source": [
        "frutas = {'papaya': 14, 'naranja': 20, 'sandia': 18, 'melon': 15}\n",
        "\n",
        "while True:\n",
        "    fruta = input('¿Qué fruta deseas vender?: ')\n",
        "    if fruta.lower() not in frutas:\n",
        "        print('Esa fruta no existe.')\n",
        "    else:\n",
        "        venta = int(input(f'¿Cantidad de {fruta} a vender?: '))\n",
        "        print('El precio es de ',(venta * frutas[fruta]), 'pesos')\n",
        "    opcion = input('¿Quieres vender otra fruta (s/n)')\n",
        "    while opcion.lower() != 's' and opcion.lower() != 'n':\n",
        "        opcion = input('¿Quieres vender otra fruta (s/n)')\n",
        "    if opcion.lower() == 'n':\n",
        "        break\n"
      ]
    }
  ]
}