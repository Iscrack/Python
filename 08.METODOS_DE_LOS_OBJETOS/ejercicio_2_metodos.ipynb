{
  "nbformat": 4,
  "nbformat_minor": 0,
  "metadata": {
    "colab": {
      "name": "ejercicio_2_metodos.ipynb",
      "provenance": [],
      "include_colab_link": true
    },
    "kernelspec": {
      "name": "python3",
      "display_name": "Python 3"
    },
    "language_info": {
      "name": "python"
    }
  },
  "cells": [
    {
      "cell_type": "markdown",
      "metadata": {
        "id": "view-in-github",
        "colab_type": "text"
      },
      "source": [
        "<a href=\"https://colab.research.google.com/github/Iscrack/Python/blob/main/08.METODOS_DE_LOS_OBJETOS/ejercicio_2_metodos.ipynb\" target=\"_parent\"><img src=\"https://colab.research.google.com/assets/colab-badge.svg\" alt=\"Open In Colab\"/></a>"
      ]
    },
    {
      "cell_type": "markdown",
      "source": [
        "Escribir un programa que guarde en una variable el diccionario Euro:€, Dollar:,Won:₩,Libra:£, pregunte al usuario por una divisa y muestre su símbolo o un mensaje de aviso si la divisa no está en el diccionario."
      ],
      "metadata": {
        "id": "Ao_7Rj2zjFuP"
      }
    },
    {
      "cell_type": "code",
      "execution_count": null,
      "metadata": {
        "id": "RGx4jEp7jEw2",
        "outputId": "0693bf0c-15df-4d14-e446-6d732ee12b62",
        "colab": {
          "base_uri": "https://localhost:8080/"
        }
      },
      "outputs": [
        {
          "output_type": "stream",
          "name": "stdout",
          "text": [
            "Introduce una divisa: peso\n",
            "La divisa no existe\n"
          ]
        }
      ],
      "source": [
        "divisas={'Euro': '€','Dollar':'$','Won':'₩','Libra':'£'}\n",
        "divisa=input('Introduce una divisa: ')\n",
        "print(divisas.get(divisa.title(), 'La divisa no existe')) \n",
        " "
      ]
    },
    {
      "cell_type": "code",
      "source": [
        "monedas={'Euro': '€','Dollar':'$','Won':'₩','Libra':'£'}\n",
        "dinero=input('Introduce una divisa: ')\n",
        "if dinero.title() in monedas:\n",
        "  print(monedas[dinero.title()])\n",
        "else:\n",
        "  print('La divisa no existe')"
      ],
      "metadata": {
        "id": "zJ9R22SMTXkg",
        "outputId": "22a96e53-36a5-4c40-c83a-2989a1b58edc",
        "colab": {
          "base_uri": "https://localhost:8080/"
        }
      },
      "execution_count": null,
      "outputs": [
        {
          "output_type": "stream",
          "name": "stdout",
          "text": [
            "Introduce una divisa: peso\n",
            "La divisa no existe\n"
          ]
        }
      ]
    },
    {
      "cell_type": "markdown",
      "source": [
        "Escribe un programa python que pida un número por teclado y que cree un diccionario cuyas claves sean desde el número 1 hasta el número indicado, y los valores sean el producto de la clave por la misma clave, ejemplo: si proporciona el 4 el resutaldo tendría que ser:\n",
        "\n",
        "1 * 1 = 1\n",
        "\n",
        "2 * 2 = 4\n",
        "\n",
        "3 * 3 = 9\n",
        "\n",
        "4 * 4 = 16"
      ],
      "metadata": {
        "id": "V34N6f9OjJbN"
      }
    },
    {
      "cell_type": "code",
      "source": [
        "ingresado=int(input('Ingresa un número para conocer el doble de este y de sus antecesores. El número es: '))\n",
        "numeros={}\n",
        "for num in range(1,ingresado+1):\n",
        "  numeros[num]=num*num\n",
        "for num,doble in numeros.items():\n",
        "  print(num,'=', doble)"
      ],
      "metadata": {
        "id": "gmTBzdQJjMPP"
      },
      "execution_count": null,
      "outputs": []
    },
    {
      "cell_type": "markdown",
      "source": [
        "Escribir un programa que pregunte al usuario su nombre, edad, dirección y teléfono y lo guarde en un diccionario. Despúes debe mostrar por pantalla el mensaje tiene años, vive en y su número de teléfono es ."
      ],
      "metadata": {
        "id": "aggHT6zdjV33"
      }
    },
    {
      "cell_type": "code",
      "source": [
        "nombre=input('Ingrese su nombre: ')\n",
        "edad=input('Ingrese su edad: ')\n",
        "direccion=input('Ingrese su dirección: ')\n",
        "telefono=input('Ingrese su teléfono: ')\n",
        "datos={'nombre':nombre, 'edad':edad, 'direccion':direccion, 'telefono':telefono}\n",
        "print(datos['nombre'], 'tiene', datos['edad'], 'años. Su dirección es:',datos['direccion'], 'y su teléfono es:',datos['telefono'])"
      ],
      "metadata": {
        "id": "VnVwZw2NjcsN",
        "outputId": "0563df5a-3d72-45be-b942-d0d9e6568c56",
        "colab": {
          "base_uri": "https://localhost:8080/"
        }
      },
      "execution_count": 5,
      "outputs": [
        {
          "output_type": "stream",
          "name": "stdout",
          "text": [
            "Ingrese su nombre: Isaac\n",
            "Ingrese su edad: 38\n",
            "Ingrese su dirección: Nubia 128\n",
            "Ingrese su teléfono: 5544663377\n",
            "Isaac tiene 38 años. Su dirección es: Nubia 128 y su teléfono es: 5544663377\n"
          ]
        }
      ]
    },
    {
      "cell_type": "markdown",
      "source": [
        "Escribir un programa que nos pregunte el nombre de un alumno y nos imprima su calificación, datos que estan almacenados en un diccionario, nos debe preguntar vía un while True tantas veces mientras no le digamos ya no queremos conultar más alumnos."
      ],
      "metadata": {
        "id": "YsWNUBahjdif"
      }
    },
    {
      "cell_type": "code",
      "source": [
        "alumnos= {\"jorge\": 10, \"daniel\":9, \"luis\": 9, \"omar\":8, 'carlos':9, 'javier':10,'pedro':8,'manuel':9,'raúl':9}\n",
        "while True:\n",
        "  alumno = input(\"Qué clificación tiene el alumno: \")\n",
        "  if alumno.lower() not in alumnos:\n",
        "    print(\"El alumno no está en la lista\")\n",
        "  else:    \n",
        "    print(f\"El alumno tiene calificación de {alumnos[alumno]}\")\n",
        "    seguir = input(\"Quiere consultar otra calificación? (s/n): \")   \n",
        "  while seguir.lower() != \"s\" and seguir.lower() != \"n\":\n",
        "    seguir = input(\"Quiere consultar otra calificación? (s/n): \")\n",
        "  if seguir.lower() == \"n\":\n",
        "      break"
      ],
      "metadata": {
        "id": "BCTdqQT3v6QQ",
        "outputId": "148b7fc8-92b1-4e1b-d35a-0bc27c4250dc",
        "colab": {
          "base_uri": "https://localhost:8080/"
        }
      },
      "execution_count": 16,
      "outputs": [
        {
          "name": "stdout",
          "output_type": "stream",
          "text": [
            "Qué clificación tiene el alumno: pedro\n",
            "El alumno tiene calificación de 8\n",
            "Quiere consultar otra calificación? (s/n): s\n",
            "Qué clificación tiene el alumno: daniel\n",
            "El alumno tiene calificación de 9\n",
            "Quiere consultar otra calificación? (s/n): s\n",
            "Qué clificación tiene el alumno: manuel\n",
            "El alumno tiene calificación de 9\n",
            "Quiere consultar otra calificación? (s/n): n\n"
          ]
        }
      ]
    },
    {
      "cell_type": "markdown",
      "source": [
        "# SOLUCIONES PROPUESTAS"
      ],
      "metadata": {
        "id": "F9rUscaCjoJx"
      }
    },
    {
      "cell_type": "code",
      "source": [
        "monedas = {'Euro':'€', 'Dollar':'$', 'Yen':'¥','Peso':'$','Won': '₩','Libra':'£'}\n",
        "moneda = input(\"Introduce una divisa: \")\n",
        "print(monedas.get(moneda.title(), \"La divisa no está.\"))"
      ],
      "metadata": {
        "id": "cgSwMBL9jruj"
      },
      "execution_count": null,
      "outputs": []
    },
    {
      "cell_type": "code",
      "source": [
        "numero = int(input(\"Proporciona un número:\"))\n",
        "numeros = {}\n",
        "for num in range(1,numero+1):\n",
        "  numeros[num] = num * num\n",
        "for num, valor in numeros.items():\n",
        "  print(\"%d -> %d\" % (num,valor))"
      ],
      "metadata": {
        "id": "intJmCI2jsWR"
      },
      "execution_count": null,
      "outputs": []
    },
    {
      "cell_type": "code",
      "source": [
        "nombre = input('¿Cómo te llamas? ')\n",
        "edad = input('¿Cuántos años tienes? ')\n",
        "direccion = input('¿Cuál es tu dirección? ')\n",
        "telefono = input('¿Cuál es tu número de teléfono? ')\n",
        "persona = {'nombre': nombre, 'edad': edad, 'direccion': direccion, 'telefono': telefono}\n",
        "print(persona['nombre'], 'tiene', persona['edad'], 'años, vive en', persona['direccion'], 'y su número de teléfono es', persona['telefono'])"
      ],
      "metadata": {
        "id": "mbLs0y1RjuT5"
      },
      "execution_count": null,
      "outputs": []
    },
    {
      "cell_type": "code",
      "source": [
        "nombres = {\"pedro\": 10, \"juan\": 7, \"daniel\": 5, \"miguel\": 8}\n",
        "while True:\n",
        "  nombre = input(\"Nombre del alumno a consultar:\")\n",
        "  if nombre.lower() not in nombres:\n",
        "   print(\"Ese nombre no existe.\")\n",
        "  else:\n",
        "    print(f\"la calificacion es de {nombres[nombre]}\" )\n",
        "    opcion = input(\"¿Quieres ver otra calificación (s/n)\")\n",
        "  while opcion.lower() != \"s\" and opcion.lower() != \"n\":\n",
        "   opcion = input(\"¿Quieres ver otra calificación (s/n)\")\n",
        "  if opcion.lower() == \"n\":\n",
        "   break"
      ],
      "metadata": {
        "id": "oLfDkdLujw7A"
      },
      "execution_count": null,
      "outputs": []
    }
  ]
}