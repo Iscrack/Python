{
  "nbformat": 4,
  "nbformat_minor": 0,
  "metadata": {
    "colab": {
      "name": "ejercicio_2_metodos.ipynb",
      "provenance": [],
      "include_colab_link": true
    },
    "kernelspec": {
      "name": "python3",
      "display_name": "Python 3"
    },
    "language_info": {
      "name": "python"
    }
  },
  "cells": [
    {
      "cell_type": "markdown",
      "metadata": {
        "id": "view-in-github",
        "colab_type": "text"
      },
      "source": [
        "<a href=\"https://colab.research.google.com/github/Iscrack/Python/blob/main/08.METODOS_DE_LOS_OBJETOS/ejercicio_2_metodos.ipynb\" target=\"_parent\"><img src=\"https://colab.research.google.com/assets/colab-badge.svg\" alt=\"Open In Colab\"/></a>"
      ]
    },
    {
      "cell_type": "markdown",
      "source": [
        "Escribir un programa que guarde en una variable el diccionario Euro:€, Dollar:,Won:₩,Libra:£, pregunte al usuario por una divisa y muestre su símbolo o un mensaje de aviso si la divisa no está en el diccionario."
      ],
      "metadata": {
        "id": "Ao_7Rj2zjFuP"
      }
    },
    {
      "cell_type": "code",
      "execution_count": 72,
      "metadata": {
        "id": "RGx4jEp7jEw2",
        "outputId": "0693bf0c-15df-4d14-e446-6d732ee12b62",
        "colab": {
          "base_uri": "https://localhost:8080/"
        }
      },
      "outputs": [
        {
          "output_type": "stream",
          "name": "stdout",
          "text": [
            "Introduce una divisa: peso\n",
            "La divisa no existe\n"
          ]
        }
      ],
      "source": [
        "divisas={'Euro': '€','Dollar':'$','Won':'₩','Libra':'£'}\n",
        "divisa=input('Introduce una divisa: ')\n",
        "print(divisas.get(divisa.title(), 'La divisa no existe')) \n",
        " "
      ]
    },
    {
      "cell_type": "code",
      "source": [
        "monedas={'Euro': '€','Dollar':'$','Won':'₩','Libra':'£'}\n",
        "dinero=input('Introduce una divisa: ')\n",
        "if dinero.title() in monedas:\n",
        "  print(monedas[dinero.title()])\n",
        "else:\n",
        "  print('La divisa no existe')"
      ],
      "metadata": {
        "id": "zJ9R22SMTXkg",
        "outputId": "22a96e53-36a5-4c40-c83a-2989a1b58edc",
        "colab": {
          "base_uri": "https://localhost:8080/"
        }
      },
      "execution_count": 73,
      "outputs": [
        {
          "output_type": "stream",
          "name": "stdout",
          "text": [
            "Introduce una divisa: peso\n",
            "La divisa no existe\n"
          ]
        }
      ]
    },
    {
      "cell_type": "markdown",
      "source": [
        "Escribe un programa python que pida un número por teclado y que cree un diccionario cuyas claves sean desde el número 1 hasta el número indicado, y los valores sean el producto de la clave por la misma clave, ejemplo: si proporciona el 4 el resutaldo tendría que ser:\n",
        "\n",
        "1 * 1 = 1\n",
        "\n",
        "2 * 2 = 4\n",
        "\n",
        "3 * 3 = 9\n",
        "\n",
        "4 * 4 = 16"
      ],
      "metadata": {
        "id": "V34N6f9OjJbN"
      }
    },
    {
      "cell_type": "code",
      "source": [
        "ingresado=int(input('Ingresa un número para conocer el doble de este y de sus antecesores. El número es: '))\n",
        "numeros={}\n",
        "for num in range(1,ingresado+1):\n",
        "  numeros[num]=num*num\n",
        "for num,doble in numeros.items():\n",
        "  print(num,'=', doble)"
      ],
      "metadata": {
        "id": "gmTBzdQJjMPP"
      },
      "execution_count": null,
      "outputs": []
    },
    {
      "cell_type": "markdown",
      "source": [
        "Escribir un programa que pregunte al usuario su nombre, edad, dirección y teléfono y lo guarde en un diccionario. Despúes debe mostrar por pantalla el mensaje tiene años, vive en y su número de teléfono es ."
      ],
      "metadata": {
        "id": "aggHT6zdjV33"
      }
    },
    {
      "cell_type": "code",
      "source": [
        "nombre=input('Ingrese su nombre: ')\n",
        "edad=input('Ingrese su edad: ')\n",
        "direccion=input('Ingrese su dirección: ')\n",
        "telefono=input('Ingrese su teléfono: ')\n",
        "datos={'nombre':nombre, 'edad':edad, 'direccion':direccion, 'telefono':telefono}\n",
        "print(datos['nombre'], 'tiene', datos['edad'], 'años. Su dirección es:',datos['direccion'], 'y su teléfono es:',datos['telefono'])"
      ],
      "metadata": {
        "id": "VnVwZw2NjcsN"
      },
      "execution_count": null,
      "outputs": []
    },
    {
      "cell_type": "markdown",
      "source": [
        "Escribir un programa que nos pregunte el nombre de un alumno y nos imprima su calificación, datos que estan almacenados en un diccionario, nos debe preguntar vía un while True tantas veces mientras no le digamos ya no queremos conultar más alumnos."
      ],
      "metadata": {
        "id": "YsWNUBahjdif"
      }
    },
    {
      "cell_type": "code",
      "source": [
        "alumnos={'jorge': 10, 'daniel':9, 'luis': 9, 'omar':8, 'carlos':9, 'javier':10,'pedro':8,'manuel':9,'raúl':9}\n",
        "while True:\n",
        "  alumno = input(\"Qué clificación tiene el alumno: \")\n",
        "  if alumno.lower() not in alumnos:\n",
        "    print(\"El alumno no está en la lista\")\n",
        "  else:    \n",
        "    print(f\"El alumno tiene calificación de {alumnos[alumno]}\")\n",
        "    seguir=input(\"Quiere consultar otra calificación? (s/n): \")    \n",
        "  while seguir.lower() != \"s\" and seguir.lower() != \"n\":\n",
        "    seguir = input(\"Quiere consultar otra calificación? (s/n): \")\n",
        "    if seguir.lower() == \"n\":\n",
        "     break\n",
        "\n",
        "    \n",
        "  \n",
        "\n",
        "\n",
        "  \n"
      ],
      "metadata": {
        "id": "9K1F3mEfjf_E",
        "outputId": "63414e24-26e2-4e67-f021-b537c7f82e49",
        "colab": {
          "base_uri": "https://localhost:8080/",
          "height": 484
        }
      },
      "execution_count": 205,
      "outputs": [
        {
          "name": "stdout",
          "output_type": "stream",
          "text": [
            "Qué clificación tiene el alumno: omar\n",
            "El alumno tiene calificación de 8\n",
            "Quiere consultar otra calificación? (s/n): n\n",
            "Qué clificación tiene el alumno: omar\n",
            "El alumno tiene calificación de 8\n",
            "Quiere consultar otra calificación? (s/n): n\n"
          ]
        },
        {
          "output_type": "error",
          "ename": "KeyboardInterrupt",
          "evalue": "ignored",
          "traceback": [
            "\u001b[0;31m---------------------------------------------------------------------------\u001b[0m",
            "\u001b[0;31mKeyboardInterrupt\u001b[0m                         Traceback (most recent call last)",
            "\u001b[0;32m<ipython-input-205-c0c7da5e4233>\u001b[0m in \u001b[0;36m<module>\u001b[0;34m\u001b[0m\n\u001b[1;32m      1\u001b[0m \u001b[0malumnos\u001b[0m\u001b[0;34m=\u001b[0m\u001b[0;34m{\u001b[0m\u001b[0;34m'jorge'\u001b[0m\u001b[0;34m:\u001b[0m \u001b[0;36m10\u001b[0m\u001b[0;34m,\u001b[0m \u001b[0;34m'daniel'\u001b[0m\u001b[0;34m:\u001b[0m\u001b[0;36m9\u001b[0m\u001b[0;34m,\u001b[0m \u001b[0;34m'luis'\u001b[0m\u001b[0;34m:\u001b[0m \u001b[0;36m9\u001b[0m\u001b[0;34m,\u001b[0m \u001b[0;34m'omar'\u001b[0m\u001b[0;34m:\u001b[0m\u001b[0;36m8\u001b[0m\u001b[0;34m,\u001b[0m \u001b[0;34m'carlos'\u001b[0m\u001b[0;34m:\u001b[0m\u001b[0;36m9\u001b[0m\u001b[0;34m,\u001b[0m \u001b[0;34m'javier'\u001b[0m\u001b[0;34m:\u001b[0m\u001b[0;36m10\u001b[0m\u001b[0;34m,\u001b[0m\u001b[0;34m'pedro'\u001b[0m\u001b[0;34m:\u001b[0m\u001b[0;36m8\u001b[0m\u001b[0;34m,\u001b[0m\u001b[0;34m'manuel'\u001b[0m\u001b[0;34m:\u001b[0m\u001b[0;36m9\u001b[0m\u001b[0;34m,\u001b[0m\u001b[0;34m'raúl'\u001b[0m\u001b[0;34m:\u001b[0m\u001b[0;36m9\u001b[0m\u001b[0;34m}\u001b[0m\u001b[0;34m\u001b[0m\u001b[0;34m\u001b[0m\u001b[0m\n\u001b[1;32m      2\u001b[0m \u001b[0;32mwhile\u001b[0m \u001b[0;32mTrue\u001b[0m\u001b[0;34m:\u001b[0m\u001b[0;34m\u001b[0m\u001b[0;34m\u001b[0m\u001b[0m\n\u001b[0;32m----> 3\u001b[0;31m   \u001b[0malumno\u001b[0m \u001b[0;34m=\u001b[0m \u001b[0minput\u001b[0m\u001b[0;34m(\u001b[0m\u001b[0;34m\"Qué clificación tiene el alumno: \"\u001b[0m\u001b[0;34m)\u001b[0m\u001b[0;34m\u001b[0m\u001b[0;34m\u001b[0m\u001b[0m\n\u001b[0m\u001b[1;32m      4\u001b[0m   \u001b[0;32mif\u001b[0m \u001b[0malumno\u001b[0m\u001b[0;34m.\u001b[0m\u001b[0mlower\u001b[0m\u001b[0;34m(\u001b[0m\u001b[0;34m)\u001b[0m \u001b[0;32mnot\u001b[0m \u001b[0;32min\u001b[0m \u001b[0malumnos\u001b[0m\u001b[0;34m:\u001b[0m\u001b[0;34m\u001b[0m\u001b[0;34m\u001b[0m\u001b[0m\n\u001b[1;32m      5\u001b[0m     \u001b[0mprint\u001b[0m\u001b[0;34m(\u001b[0m\u001b[0;34m\"El alumno no está en la lista\"\u001b[0m\u001b[0;34m)\u001b[0m\u001b[0;34m\u001b[0m\u001b[0;34m\u001b[0m\u001b[0m\n",
            "\u001b[0;32m/usr/local/lib/python3.8/dist-packages/ipykernel/kernelbase.py\u001b[0m in \u001b[0;36mraw_input\u001b[0;34m(self, prompt)\u001b[0m\n\u001b[1;32m    858\u001b[0m                 \u001b[0;34m\"raw_input was called, but this frontend does not support input requests.\"\u001b[0m\u001b[0;34m\u001b[0m\u001b[0;34m\u001b[0m\u001b[0m\n\u001b[1;32m    859\u001b[0m             )\n\u001b[0;32m--> 860\u001b[0;31m         return self._input_request(str(prompt),\n\u001b[0m\u001b[1;32m    861\u001b[0m             \u001b[0mself\u001b[0m\u001b[0;34m.\u001b[0m\u001b[0m_parent_ident\u001b[0m\u001b[0;34m,\u001b[0m\u001b[0;34m\u001b[0m\u001b[0;34m\u001b[0m\u001b[0m\n\u001b[1;32m    862\u001b[0m             \u001b[0mself\u001b[0m\u001b[0;34m.\u001b[0m\u001b[0m_parent_header\u001b[0m\u001b[0;34m,\u001b[0m\u001b[0;34m\u001b[0m\u001b[0;34m\u001b[0m\u001b[0m\n",
            "\u001b[0;32m/usr/local/lib/python3.8/dist-packages/ipykernel/kernelbase.py\u001b[0m in \u001b[0;36m_input_request\u001b[0;34m(self, prompt, ident, parent, password)\u001b[0m\n\u001b[1;32m    902\u001b[0m             \u001b[0;32mexcept\u001b[0m \u001b[0mKeyboardInterrupt\u001b[0m\u001b[0;34m:\u001b[0m\u001b[0;34m\u001b[0m\u001b[0;34m\u001b[0m\u001b[0m\n\u001b[1;32m    903\u001b[0m                 \u001b[0;31m# re-raise KeyboardInterrupt, to truncate traceback\u001b[0m\u001b[0;34m\u001b[0m\u001b[0;34m\u001b[0m\u001b[0;34m\u001b[0m\u001b[0m\n\u001b[0;32m--> 904\u001b[0;31m                 \u001b[0;32mraise\u001b[0m \u001b[0mKeyboardInterrupt\u001b[0m\u001b[0;34m(\u001b[0m\u001b[0;34m\"Interrupted by user\"\u001b[0m\u001b[0;34m)\u001b[0m \u001b[0;32mfrom\u001b[0m \u001b[0;32mNone\u001b[0m\u001b[0;34m\u001b[0m\u001b[0;34m\u001b[0m\u001b[0m\n\u001b[0m\u001b[1;32m    905\u001b[0m             \u001b[0;32mexcept\u001b[0m \u001b[0mException\u001b[0m \u001b[0;32mas\u001b[0m \u001b[0me\u001b[0m\u001b[0;34m:\u001b[0m\u001b[0;34m\u001b[0m\u001b[0;34m\u001b[0m\u001b[0m\n\u001b[1;32m    906\u001b[0m                 \u001b[0mself\u001b[0m\u001b[0;34m.\u001b[0m\u001b[0mlog\u001b[0m\u001b[0;34m.\u001b[0m\u001b[0mwarning\u001b[0m\u001b[0;34m(\u001b[0m\u001b[0;34m\"Invalid Message:\"\u001b[0m\u001b[0;34m,\u001b[0m \u001b[0mexc_info\u001b[0m\u001b[0;34m=\u001b[0m\u001b[0;32mTrue\u001b[0m\u001b[0;34m)\u001b[0m\u001b[0;34m\u001b[0m\u001b[0;34m\u001b[0m\u001b[0m\n",
            "\u001b[0;31mKeyboardInterrupt\u001b[0m: Interrupted by user"
          ]
        }
      ]
    },
    {
      "cell_type": "markdown",
      "source": [
        "# SOLUCIONES PROPUESTAS"
      ],
      "metadata": {
        "id": "F9rUscaCjoJx"
      }
    },
    {
      "cell_type": "code",
      "source": [
        "monedas = {'Euro':'€', 'Dollar':'$', 'Yen':'¥','Peso':'$','Won': '₩','Libra':'£'}\n",
        "moneda = input(\"Introduce una divisa: \")\n",
        "print(monedas.get(moneda.title(), \"La divisa no está.\"))"
      ],
      "metadata": {
        "id": "cgSwMBL9jruj"
      },
      "execution_count": null,
      "outputs": []
    },
    {
      "cell_type": "code",
      "source": [
        "numero = int(input(\"Proporciona un número:\"))\n",
        "numeros = {}\n",
        "for num in range(1,numero+1):\n",
        "  numeros[num] = num * num\n",
        "for num, valor in numeros.items():\n",
        "  print(\"%d -> %d\" % (num,valor))"
      ],
      "metadata": {
        "id": "intJmCI2jsWR"
      },
      "execution_count": null,
      "outputs": []
    },
    {
      "cell_type": "code",
      "source": [
        "nombre = input('¿Cómo te llamas? ')\n",
        "edad = input('¿Cuántos años tienes? ')\n",
        "direccion = input('¿Cuál es tu dirección? ')\n",
        "telefono = input('¿Cuál es tu número de teléfono? ')\n",
        "persona = {'nombre': nombre, 'edad': edad, 'direccion': direccion, 'telefono': telefono}\n",
        "print(persona['nombre'], 'tiene', persona['edad'], 'años, vive en', persona['direccion'], 'y su número de teléfono es', persona['telefono'])"
      ],
      "metadata": {
        "id": "mbLs0y1RjuT5"
      },
      "execution_count": null,
      "outputs": []
    },
    {
      "cell_type": "code",
      "source": [
        "nombres = {\"pedro\": 10, \"juan\": 7, \"daniel\": 5, \"miguel\": 8}\n",
        "while True:\n",
        "  nombre = input(\"Nombre del alumno a consultar:\")\n",
        "  if nombre.lower() not in nombres:\n",
        "   print(\"Ese nombre no existe.\")\n",
        "  else:\n",
        "    print(f\"la calificacion es de {nombres[nombre]}\" )\n",
        "    opcion = input(\"¿Quieres ver otra calificación (s/n)\")\n",
        "  while opcion.lower() != \"s\" and opcion.lower() != \"n\":\n",
        "   opcion = input(\"¿Quieres ver otra calificación (s/n)\")\n",
        "  if opcion.lower() == \"n\":\n",
        "   break"
      ],
      "metadata": {
        "id": "oLfDkdLujw7A"
      },
      "execution_count": null,
      "outputs": []
    }
  ]
}