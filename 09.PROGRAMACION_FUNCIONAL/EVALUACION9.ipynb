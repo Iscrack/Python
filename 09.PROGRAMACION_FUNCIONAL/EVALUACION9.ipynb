{
  "nbformat": 4,
  "nbformat_minor": 0,
  "metadata": {
    "colab": {
      "provenance": [],
      "authorship_tag": "ABX9TyMIEcGtKguxgYs2Ox7awsf/",
      "include_colab_link": true
    },
    "kernelspec": {
      "name": "python3",
      "display_name": "Python 3"
    },
    "language_info": {
      "name": "python"
    }
  },
  "cells": [
    {
      "cell_type": "markdown",
      "metadata": {
        "id": "view-in-github",
        "colab_type": "text"
      },
      "source": [
        "<a href=\"https://colab.research.google.com/github/Iscrack/Python/blob/main/09.PROGRAMACION_FUNCIONAL/EVALUACION9.ipynb\" target=\"_parent\"><img src=\"https://colab.research.google.com/assets/colab-badge.svg\" alt=\"Open In Colab\"/></a>"
      ]
    },
    {
      "cell_type": "markdown",
      "source": [
        "#Práctica 9. Programación funcional. (6 puntos):"
      ],
      "metadata": {
        "id": "ZLEjTdZh0PEq"
      }
    },
    {
      "cell_type": "markdown",
      "source": [
        "## Ejercicio 1 (2 puntos)\n",
        "Realice un programa que pregunte aleatoriamente una multiplicación. El programa debe indicar si la respuesta ha sido correcta o no (en caso que la respuesta sea incorrecta el programa debe indicar cuál es la correcta). El programa preguntará 10 multiplicaciones, y al finalizar mostrará el número de aciertos.\n",
        "\n",
        "Análisis\n",
        "Hacemos un bucle con 10 iteraciones, en cada iteración se inicializan dos números con un valor aleatorio (de 2 a 10). Se calcula la multiplicación.\n",
        "Mostramos la multiplicación, y pedimos por teclado el resultado. Si coincide con la multiplicación calculada cuento un acierto, sino escribimos un mensaje de error mostrando el resultado correcto. Cuando salimos del bucle mostramos el número de aciertos.\n",
        "Ejemplo. imprime una multiplicacion (9 * 8 = )por teclado se ingresa la respuesta, eso pasa 10 veces y al final nos imprime cuantas respuestas fueron correctas\n",
        "\n",
        "Recuerda el import random"
      ],
      "metadata": {
        "id": "_d4T62Swz3-b"
      }
    },
    {
      "cell_type": "code",
      "execution_count": null,
      "metadata": {
        "id": "zwvemsyDz2Zp"
      },
      "outputs": [],
      "source": [
        "import random\n",
        "aciertos = 0\n",
        "contador=1\n",
        "while aciertos<10 or contador==9:\n",
        "  for i in range(10):\n",
        "    num1 = random.randint(2,10)\n",
        "    num2 = random.randint(2,10)\n",
        "  resultado = num1*num2\n",
        "  print('Multiplicación', contador)\n",
        "  print(num1,'*',num2,'=')\n",
        "  num_usuario = int(input())\n",
        "  if num_usuario == resultado:\n",
        "      aciertos = aciertos+1\n",
        "      contador=contador+1\n",
        "  else:\n",
        "      print(f'No has acertado. La respuesta es:',resultado)\n",
        "      contador=contador+1\n",
        "  print(f'Tu puntuación es:', aciertos)\n"
      ]
    },
    {
      "cell_type": "markdown",
      "source": [
        "\n",
        "## Ejercicio 2 (2 puntos)\n",
        "Obtener el cuadrado de todos los elementos en la lista.\n",
        "\n",
        "Lista: [1,2,3,4,5,6,7,8,9,10]"
      ],
      "metadata": {
        "id": "8gRMzgag0By4"
      }
    },
    {
      "cell_type": "code",
      "source": [
        "lista:[1,2,3,4,5,6,7,8,9,10]\n",
        "print(f'La lista es: {lista}')\n",
        "def doble(lista):\n",
        "  return lista**2\n",
        "lista=[1,2,3,4,5,6,7,8,9,10]\n",
        "print(f'Es doble de la lista es:{list(map(doble,lista))}')"
      ],
      "metadata": {
        "id": "VerrprDS0CnL"
      },
      "execution_count": null,
      "outputs": []
    },
    {
      "cell_type": "markdown",
      "source": [
        "## Ejercicio 3 (2 puntos)\n",
        "Obtener la cantidad de elementos mayores a 5 en la tupla.\n",
        "\n",
        "tupla = (5,2,6,7,8,10,77,55,2,1,30,4,2,3)"
      ],
      "metadata": {
        "id": "iOihACOK0C8I"
      }
    },
    {
      "cell_type": "code",
      "source": [
        "def mayor_a_cinco(elemento):\n",
        "  return elemento > 5\n",
        "\n",
        "tupla = (5,2,6,7,8,10,77,55,2,1,30,4,2,3)\n",
        "resultado = tuple(filter( mayor_a_cinco, tupla))\n",
        "print(resultado, len(resultado))\n",
        "\n",
        "\n"
      ],
      "metadata": {
        "id": "T7VpeEK_0ISX",
        "colab": {
          "base_uri": "https://localhost:8080/"
        },
        "outputId": "600e55af-25b7-4a70-ee81-f35b5b7ba07f"
      },
      "execution_count": 29,
      "outputs": [
        {
          "output_type": "stream",
          "name": "stdout",
          "text": [
            "(6, 7, 8, 10, 77, 55, 30) 7\n"
          ]
        }
      ]
    },
    {
      "cell_type": "markdown",
      "source": [
        "## Ejercicio 4 (2 puntos)\n",
        "Obtener la suma de todos los elementos en la lista\n",
        "\n",
        "lista = [1,2,3,4]"
      ],
      "metadata": {
        "id": "BrnVZYvW0Il5"
      }
    },
    {
      "cell_type": "code",
      "source": [
        "lista = [1, 2, 3, 4]\n",
        "suma = 0\n",
        "for i in lista:\n",
        "  suma += i\n",
        "print(suma)"
      ],
      "metadata": {
        "id": "vW5Xe5QL0MDi",
        "colab": {
          "base_uri": "https://localhost:8080/"
        },
        "outputId": "f5f9d142-0c1a-4fd0-c915-a7df17eea105"
      },
      "execution_count": 32,
      "outputs": [
        {
          "output_type": "stream",
          "name": "stdout",
          "text": [
            "10\n"
          ]
        }
      ]
    }
  ]
}