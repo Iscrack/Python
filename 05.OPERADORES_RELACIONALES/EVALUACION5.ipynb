{
  "nbformat": 4,
  "nbformat_minor": 0,
  "metadata": {
    "colab": {
      "name": "Copia de EVALUACION5.ipynb",
      "provenance": [],
      "include_colab_link": true
    },
    "kernelspec": {
      "name": "python3",
      "display_name": "Python 3"
    },
    "language_info": {
      "name": "python"
    }
  },
  "cells": [
    {
      "cell_type": "markdown",
      "metadata": {
        "id": "view-in-github",
        "colab_type": "text"
      },
      "source": [
        "<a href=\"https://colab.research.google.com/github/Iscrack/Python/blob/main/Copia_de_EVALUACION5.ipynb\" target=\"_parent\"><img src=\"https://colab.research.google.com/assets/colab-badge.svg\" alt=\"Open In Colab\"/></a>"
      ]
    },
    {
      "cell_type": "markdown",
      "source": [
        "#5 Práctica 5. \n",
        "Operadores relacionales. (6 puntos)\n",
        "\n",
        "## 5.1 Ejercicio 1 (2 puntos)\n",
        "Programa que imprima si el número es positivo o negativo, el número debe ser ingresado por consola.\n",
        "\n"
      ],
      "metadata": {
        "id": "r7beNH5cW9_x"
      }
    },
    {
      "cell_type": "code",
      "source": [
        "#Tu codigo aqui\n",
        "num = 0\n",
        "num = float(input(\"Ingrese un número: \"))\n",
        "if num >= 0 :\n",
        "  print('El número es positivo')\n",
        "else:\n",
        "  print('El número es negativo')"
      ],
      "metadata": {
        "id": "bZVUL37GXES5"
      },
      "execution_count": null,
      "outputs": []
    },
    {
      "cell_type": "markdown",
      "source": [
        "## 5.2 Ejercicio 2 (2 puntos)\n",
        "Programa que imprima si el número ingresado esta en el rango de 1 a 7, el número se solicita por consola.\n",
        "\n"
      ],
      "metadata": {
        "id": "HCdfkizhXH84"
      }
    },
    {
      "cell_type": "code",
      "execution_count": null,
      "metadata": {
        "id": "-gwRlEcsW8t9"
      },
      "outputs": [],
      "source": [
        "#Tu codigo aqui\n",
        "num = 0\n",
        "num = float(input(\"Ingrese un número: \"))\n",
        "if num >= 1 and num <= 7:\n",
        "  print('El número está dentro del rango permitido')\n",
        "else:\n",
        "  print('El número no está dentro del rango permitido')"
      ]
    },
    {
      "cell_type": "markdown",
      "source": [
        "## 5.3 Ejercicio 3 (2 puntos)\n",
        "Programa que solicite un monto y que solicite el interés mensual, si el interés es mayor al 30% nos imprimirá que es incorrecto, si es menor realizará el cálculo e imprimira el monto con su interés adicionado."
      ],
      "metadata": {
        "id": "MfOTeEoPXMPg"
      }
    },
    {
      "cell_type": "code",
      "source": [
        "#Tu codigo aqui\n",
        "monto = 0\n",
        "interes = 0\n",
        "\n",
        "monto = float(input('Ingrese un monto: '))\n",
        "interes = float(input('Ingrese el interés a pagar: '))\n",
        "if interes > monto * .30:\n",
        "  print('El interés mensual es incorrecto')\n",
        "elif interes <= monto * .30:\n",
        "  print(f'El monto mensual incluído el interés es de: {monto+interes}')\n",
        "\n"
      ],
      "metadata": {
        "id": "vK-sijxOXN_I"
      },
      "execution_count": null,
      "outputs": []
    }
  ]
}
