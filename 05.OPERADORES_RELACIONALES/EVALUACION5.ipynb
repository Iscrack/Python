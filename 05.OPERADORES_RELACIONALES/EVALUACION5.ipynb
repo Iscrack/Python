{
  "nbformat": 4,
  "nbformat_minor": 0,
  "metadata": {
    "colab": {
      "name": "EVALUACION5.ipynb",
      "provenance": []
    },
    "kernelspec": {
      "name": "python3",
      "display_name": "Python 3"
    },
    "language_info": {
      "name": "python"
    }
  },
  "cells": [
    {
      "cell_type": "markdown",
      "source": [
        "#5 Práctica 5. \n",
        "Operadores relacionales. (6 puntos)\n",
        "\n",
        "## 5.1 Ejercicio 1 (2 puntos)\n",
        "Programa que imprima si el número es positivo o negativo, el número debe ser ingresado por consola.\n",
        "\n"
      ],
      "metadata": {
        "id": "r7beNH5cW9_x"
      }
    },
    {
      "cell_type": "code",
      "source": [
        "#Tu codigo aqui\n",
        "num = 0\n",
        "num = float(input(\"Ingrese un número: \"))\n",
        "if num >= 0 :\n",
        "  print('El número es positivo')\n",
        "else:\n",
        "  print('El número es negativo')"
      ],
      "metadata": {
        "id": "bZVUL37GXES5",
        "outputId": "dc7a76a3-f3ed-4eba-b593-7eb07db7b332",
        "colab": {
          "base_uri": "https://localhost:8080/"
        }
      },
      "execution_count": 12,
      "outputs": [
        {
          "output_type": "stream",
          "name": "stdout",
          "text": [
            "Ingrese un número: -5\n",
            "El número es negativo\n"
          ]
        }
      ]
    },
    {
      "cell_type": "markdown",
      "source": [
        "## 5.2 Ejercicio 2 (2 puntos)\n",
        "Programa que imprima si el número ingresado esta en el rango de 1 a 7, el número se solicita por consola.\n",
        "\n"
      ],
      "metadata": {
        "id": "HCdfkizhXH84"
      }
    },
    {
      "cell_type": "code",
      "execution_count": null,
      "metadata": {
        "id": "-gwRlEcsW8t9"
      },
      "outputs": [],
      "source": [
        "#Tu codigo aqui"
      ]
    },
    {
      "cell_type": "markdown",
      "source": [
        "## 5.3 Ejercicio 3 (2 puntos)\n",
        "Programa que solicite un monto y que solicite el interés mensual, si el interés es mayor al 30% nos imprimirá que es incorrecto, si es menor realizará el cálculo e imprimira el monto con su interés adicionado."
      ],
      "metadata": {
        "id": "MfOTeEoPXMPg"
      }
    },
    {
      "cell_type": "code",
      "source": [
        "#Tu codigo aqui"
      ],
      "metadata": {
        "id": "vK-sijxOXN_I"
      },
      "execution_count": null,
      "outputs": []
    }
  ]
}