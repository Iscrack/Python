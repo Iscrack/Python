{
  "nbformat": 4,
  "nbformat_minor": 0,
  "metadata": {
    "colab": {
      "name": "Untitled5.ipynb",
      "provenance": []
    },
    "kernelspec": {
      "name": "python3",
      "display_name": "Python 3"
    },
    "language_info": {
      "name": "python"
    }
  },
  "cells": [
    {
      "cell_type": "markdown",
      "source": [
        "# Práctica 4. \n",
        "6 puntos\n",
        "\n",
        "Tipos de colección de datos.\n",
        "\n",
        "## 4.1 Ejercicio 1(1.2 puntos)\n",
        "Realizar un programa que inicialice una lista con 10 valores aleatorios (del 1 al 10) y posteriormente muestre en pantalla cada elemento de la lista junto con su cuadrado y su cubo. Respuesta:\n",
        "\n"
      ],
      "metadata": {
        "id": "5401D1bpSsU-"
      }
    },
    {
      "cell_type": "code",
      "execution_count": 262,
      "metadata": {
        "id": "2evc8LMxSrwF",
        "outputId": "85e98570-7812-4c82-feab-5832782c12c5",
        "colab": {
          "base_uri": "https://localhost:8080/"
        }
      },
      "outputs": [
        {
          "output_type": "stream",
          "name": "stdout",
          "text": [
            "8   64   512\n",
            "1   1   1\n",
            "2   4   8\n",
            "7   49   343\n",
            "11   121   1331\n",
            "10   100   1000\n",
            "5   25   125\n",
            "9   81   729\n",
            "5   25   125\n",
            "10   100   1000\n"
          ]
        }
      ],
      "source": [
        "# Tu código aqui\n",
        "import random\n",
        "lista = []\n",
        "for i in range(1,11):\n",
        "\tlista.append(random.randint(1,11))\n",
        "for numero in lista:\n",
        "\tprint(numero,\" \",numero ** 2,\" \",numero ** 3)"
      ]
    },
    {
      "cell_type": "markdown",
      "source": [
        "## 4.2 Ejercicio 2 (1.2 puntos)\n",
        "Crea una lista e inicializarla con 5 cadenas de caracteres leídas por teclado. Copia los elementos de la lista en otra lista pero en orden inverso, y muestra sus elementos por la pantalla.\n",
        "\n"
      ],
      "metadata": {
        "id": "mYeAdvL-S2m4"
      }
    },
    {
      "cell_type": "code",
      "source": [
        "#Tu código aqui\n",
        "\n",
        "lista1 = []\n",
        "lista2 = []\n",
        "for indice in range(0,5):\n",
        "\tlista1.append(input(\"Dame la cadena %d:\" % indice))\n",
        "\t\n",
        "lista2 = lista1[::-1]\n",
        "\n",
        "for cadena in lista2:\n",
        "\tprint(cadena)"
      ],
      "metadata": {
        "id": "sW9gox1pS75K"
      },
      "execution_count": null,
      "outputs": []
    },
    {
      "cell_type": "markdown",
      "source": [
        "## 4.3 Ejercicio 3 (1.2 puntos)\n",
        "Se quiere realizar un programa que lea por teclado las 5 notas obtenidas por un alumno (comprendidas entre 0 y 10). A continuación debe mostrar todas las notas, la nota media, la nota más alta que ha sacado y la menor.\n",
        "\n"
      ],
      "metadata": {
        "id": "QWYc_eqVS96C"
      }
    },
    {
      "cell_type": "code",
      "source": [
        "#Tu codigo aqui\n",
        "\n",
        "notas = []\n",
        "for indice in range(1,6):\n",
        "\twhile True:\n",
        "\t\tnota = int(input(\"Introduce la nota %d:\" % indice))\n",
        "\t\tif nota>=0 and nota<=10: break\n",
        "\tnotas.append(nota)\n",
        "print(\"Notas: \",end=\"\")\n",
        "\n",
        "for nota in notas:\n",
        "\tprint(nota,\" \",end=\"\")\n",
        "print()\n",
        "print(\"Nota media: \",sum(notas)/len(notas))\n",
        "print(\"Nota max: \",max(notas))\n",
        "print(\"Nota min: \",min(notas))\n"
      ],
      "metadata": {
        "id": "9NtUBQ3rTAlZ",
        "outputId": "e3ba7a3b-7450-456e-dce8-4fe104d8def7",
        "colab": {
          "base_uri": "https://localhost:8080/"
        }
      },
      "execution_count": 305,
      "outputs": [
        {
          "output_type": "stream",
          "name": "stdout",
          "text": [
            "Introduce la nota 1:5\n",
            "Introduce la nota 2:8\n",
            "Introduce la nota 3:9\n",
            "Introduce la nota 4:8\n",
            "Introduce la nota 5:5\n",
            "Notas: 5  8  9  8  5  \n",
            "Nota media:  7.0\n",
            "Nota max:  9\n",
            "Nota min:  5\n"
          ]
        }
      ]
    },
    {
      "cell_type": "markdown",
      "source": [
        "## 4.4 Ejercicio 4 (1.2 puntos)\n",
        "Codifica un programa en python que nos permita guardar los nombres de los alumnos de una clase y las notas que han obtenido. Cada alumno puede tener distinta cantidad de notas. Guarda la información en un diccionario cuya claves serán los nombres de los alumnos y los valores serán listados con las notas de cada alumno.\n",
        "\n",
        "El programa pedirá el número de alumnos que vamos a introducir, pedirá su nombre e irá pidiendo sus notas hasta que introduzcamos un número negativo. Al final el programa nos mostrará la lista de alumnos y la nota media obtenida por cada uno de ellos. Nota: si se introduce el nombre de un alumno que ya existe el programa nos dará un error.\n",
        "\n"
      ],
      "metadata": {
        "id": "0SZRy56KTC3q"
      }
    },
    {
      "cell_type": "code",
      "source": [
        "#Tu código aqui"
      ],
      "metadata": {
        "id": "Zai6eApUTGzk"
      },
      "execution_count": null,
      "outputs": []
    },
    {
      "cell_type": "markdown",
      "source": [
        "## 4.5 Ejercicio 5 (1.2 puntos)\n",
        "Crea una tupla con los meses del año, pide números al usuario, si el número está entre 1 y la longitud máxima de la tupla, muestra el contenido de esa posición sino muestra un mensaje de error. El programa termina cuando el usuario introduce un cero.\n",
        "\n"
      ],
      "metadata": {
        "id": "BXyaY22ATI-M"
      }
    },
    {
      "cell_type": "code",
      "source": [
        "#Tu código aqui"
      ],
      "metadata": {
        "id": "c4mkDJNtTLLz"
      },
      "execution_count": null,
      "outputs": []
    }
  ]
}