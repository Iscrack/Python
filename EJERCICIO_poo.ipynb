{
  "nbformat": 4,
  "nbformat_minor": 0,
  "metadata": {
    "colab": {
      "name": "EJERCICIO_poo.ipynb",
      "provenance": [],
      "collapsed_sections": [],
      "include_colab_link": true
    },
    "kernelspec": {
      "name": "python3",
      "display_name": "Python 3"
    },
    "language_info": {
      "name": "python"
    }
  },
  "cells": [
    {
      "cell_type": "markdown",
      "metadata": {
        "id": "view-in-github",
        "colab_type": "text"
      },
      "source": [
        "<a href=\"https://colab.research.google.com/github/Iscrack/Python/blob/main/EJERCICIO_poo.ipynb\" target=\"_parent\"><img src=\"https://colab.research.google.com/assets/colab-badge.svg\" alt=\"Open In Colab\"/></a>"
      ]
    },
    {
      "cell_type": "markdown",
      "source": [
        "## Ejeccio 8\n",
        "Desarrollar un programa que conste de una clase padre Cuenta y dos subclases PlazoFijo y CajaAhorro. Definir los atributos titular y cantidad y un método para imprimir los datos en la clase Cuenta. La clase CajaAhorro tendrá un método para heredar los datos y uno para mostrar la información.\n",
        "\n",
        "La clase PlazoFijo tendrá dos atributos propios, plazo e interés. Tendrá un método para obtener el importe del interés (cantidad*interés/100) y otro método para mostrar la información, datos del titular plazo, interés y total de interés.\n",
        "\n",
        "Crear al menos un objeto de cada subclase."
      ],
      "metadata": {
        "id": "ktSF6tsVhHB-"
      }
    },
    {
      "cell_type": "code",
      "source": [
        "# Tú código aqui\n"
      ],
      "metadata": {
        "id": "FoaHzDDIXM3G"
      },
      "execution_count": null,
      "outputs": []
    },
    {
      "cell_type": "markdown",
      "source": [
        "juan carlos"
      ],
      "metadata": {
        "id": "DwP-vW_NXPI8"
      }
    },
    {
      "cell_type": "code",
      "execution_count": null,
      "metadata": {
        "id": "nFhpjbu7hCBE"
      },
      "outputs": [],
      "source": [
        "#Tú código aqui\n"
      ]
    },
    {
      "cell_type": "markdown",
      "source": [
        "ABRAHAM "
      ],
      "metadata": {
        "id": "PzVhiIK4hSwu"
      }
    },
    {
      "cell_type": "code",
      "source": [
        "#Tú código aqui"
      ],
      "metadata": {
        "id": "BZFBbIG1haMu"
      },
      "execution_count": null,
      "outputs": []
    },
    {
      "cell_type": "markdown",
      "source": [
        "LETICIA"
      ],
      "metadata": {
        "id": "5NQbUI-uha1e"
      }
    },
    {
      "cell_type": "code",
      "source": [
        "#Tú código aqui\n"
      ],
      "metadata": {
        "id": "2GoR5dJ4hdsv"
      },
      "execution_count": null,
      "outputs": []
    },
    {
      "cell_type": "markdown",
      "source": [
        "RAFAEL"
      ],
      "metadata": {
        "id": "9TunnSoKhePW"
      }
    },
    {
      "cell_type": "code",
      "source": [
        "#Tú código aqui\n",
        "\n"
      ],
      "metadata": {
        "id": "LoLtCttzhgd2"
      },
      "execution_count": null,
      "outputs": []
    },
    {
      "cell_type": "markdown",
      "source": [
        "ALONDRA AMAYRANI "
      ],
      "metadata": {
        "id": "zrFWl2x3hgyd"
      }
    },
    {
      "cell_type": "code",
      "source": [
        "#Tú código aqui\n"
      ],
      "metadata": {
        "id": "qlTA9ndahjFu"
      },
      "execution_count": null,
      "outputs": []
    },
    {
      "cell_type": "markdown",
      "source": [
        "IVAN MICHEL"
      ],
      "metadata": {
        "id": "NEF9C3lVhj7O"
      }
    },
    {
      "cell_type": "code",
      "source": [
        "#Tú código aqui\n"
      ],
      "metadata": {
        "id": "G4HknJ5ahoIO"
      },
      "execution_count": null,
      "outputs": []
    },
    {
      "cell_type": "markdown",
      "source": [
        "ISAAC ALBERTO"
      ],
      "metadata": {
        "id": "t0MYCtQUhoo3"
      }
    },
    {
      "cell_type": "code",
      "source": [
        "#Tú código aqui\n",
        "class Cuenta:\n",
        "  def __init__ (self,titular,cantidad):\n",
        "    self.__titular=titular\n",
        "    self.__cantidad=cantidad\n",
        "  \n",
        "  @property\n",
        "  def titular(self):\n",
        "    return self.__titular\n",
        "  \n",
        "  @titular.setter #Propiedad SETTER\n",
        "  def titular(self, nuevotitular):\n",
        "      return self.__titular\n",
        "\n",
        "  @property\n",
        "  def cantidad(self):\n",
        "    return self.__cantidad\n",
        "  \n",
        "  @cantidad.setter #Propiedad SETTER\n",
        "  def cantidad(self, nuevacantidad):\n",
        "      return self.__cantidad\n",
        "\n",
        "  def mostrar(self):\n",
        "    return \"Titular: \" + self.__titular + \" - Cantidad: \"+ self.__cantidad \n",
        "\n",
        "class Caja_ahorro(Cuenta):\n",
        "  def __init__(self,titular,cantidad):\n",
        "\n",
        "  def caja(self):\n",
        "    return \"Titular: \" + self.__titular + \" - Cantidad: \"+ self.__cantidad \n",
        "\n",
        "\n",
        "class Plazo_fijo(Cuenta):\n",
        "  def __init__(self,titular,cantidad):\n",
        "    self.__plazo = plazo\n",
        "    self.__interes = interes\n",
        "    super().__init__(titular,cantidad,plazo,interes)\n",
        "\n",
        "\n",
        "\n",
        "cuenta1=Cuenta(\"Jorge Carreño\", \"5265489\")\n",
        "cuenta1.caja()\n",
        "\n",
        "\n"
      ],
      "metadata": {
        "id": "UKe2WijJhsCW"
      },
      "execution_count": null,
      "outputs": []
    },
    {
      "cell_type": "markdown",
      "source": [
        "JESÚS ALONSO"
      ],
      "metadata": {
        "id": "eB7zoFlGhsnQ"
      }
    },
    {
      "cell_type": "code",
      "source": [
        "#Tú código aqui"
      ],
      "metadata": {
        "id": "Gusb9gAhhvBe"
      },
      "execution_count": null,
      "outputs": []
    },
    {
      "cell_type": "markdown",
      "source": [
        "OMAR"
      ],
      "metadata": {
        "id": "vGhWv4ejhvrm"
      }
    },
    {
      "cell_type": "code",
      "source": [
        "#Tú código aqui"
      ],
      "metadata": {
        "id": "feRfmxD_hyem"
      },
      "execution_count": null,
      "outputs": []
    }
  ]
}