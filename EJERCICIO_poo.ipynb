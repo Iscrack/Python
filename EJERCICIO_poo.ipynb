{
  "nbformat": 4,
  "nbformat_minor": 0,
  "metadata": {
    "colab": {
      "provenance": [],
      "include_colab_link": true
    },
    "kernelspec": {
      "name": "python3",
      "display_name": "Python 3"
    },
    "language_info": {
      "name": "python"
    }
  },
  "cells": [
    {
      "cell_type": "markdown",
      "metadata": {
        "id": "view-in-github",
        "colab_type": "text"
      },
      "source": [
        "<a href=\"https://colab.research.google.com/github/Iscrack/Python/blob/main/EJERCICIO_poo.ipynb\" target=\"_parent\"><img src=\"https://colab.research.google.com/assets/colab-badge.svg\" alt=\"Open In Colab\"/></a>"
      ]
    },
    {
      "cell_type": "markdown",
      "source": [
        "## Ejeccio 8\n",
        "Desarrollar un programa que conste de una clase padre Cuenta y dos subclases PlazoFijo y CajaAhorro. Definir los atributos titular y cantidad y un método para imprimir los datos en la clase Cuenta. La clase CajaAhorro tendrá un método para heredar los datos y uno para mostrar la información.\n",
        "\n",
        "La clase PlazoFijo tendrá dos atributos propios, plazo e interés. Tendrá un método para obtener el importe del interés (cantidad*interés/100) y otro método para mostrar la información, datos del titular plazo, interés y total de interés.\n",
        "\n",
        "Crear al menos un objeto de cada subclase."
      ],
      "metadata": {
        "id": "ktSF6tsVhHB-"
      }
    },
    {
      "cell_type": "code",
      "source": [
        "class Cuenta:\n",
        "  def __init__ (self, titular, cantidad):\n",
        "  self.titular=titular\n",
        "  self.cantidad=cantidad\n",
        "\n",
        "  def mostrar_cuensta(self):\n",
        "    return f\"\"\"\n",
        "    nombre:{self.titular}\n",
        "    edad:{self.cantidad}\"\"\"\n",
        "\n",
        "\n",
        "\n",
        "class Plazo_fijo(Cuenta):\n",
        "  def __init__ (self, titular, cantidad, plazo, interés):\n",
        "    self.ubicacion=ubicacion\n",
        "    super().__init__(titular, cantidad)\n",
        "\n",
        "class Ahorro(Cuenta):\n",
        "  def __init__ (self, titular, cantidad):\n",
        "    self.ubicacion=ubicacion\n",
        "    super().__init__(titular, cantidad)\n"
      ],
      "metadata": {
        "id": "FoaHzDDIXM3G"
      },
      "execution_count": null,
      "outputs": []
    },
    {
      "cell_type": "markdown",
      "source": [
        "juan carlos"
      ],
      "metadata": {
        "id": "DwP-vW_NXPI8"
      }
    },
    {
      "cell_type": "code",
      "execution_count": null,
      "metadata": {
        "id": "nFhpjbu7hCBE"
      },
      "outputs": [],
      "source": [
        "#Tú código aqui\n"
      ]
    },
    {
      "cell_type": "markdown",
      "source": [
        "ABRAHAM "
      ],
      "metadata": {
        "id": "PzVhiIK4hSwu"
      }
    },
    {
      "cell_type": "code",
      "source": [
        "#Tú código aqui"
      ],
      "metadata": {
        "id": "BZFBbIG1haMu"
      },
      "execution_count": null,
      "outputs": []
    },
    {
      "cell_type": "markdown",
      "source": [
        "LETICIA"
      ],
      "metadata": {
        "id": "5NQbUI-uha1e"
      }
    },
    {
      "cell_type": "code",
      "source": [
        "#Tú código aqui\n",
        "\n"
      ],
      "metadata": {
        "id": "2GoR5dJ4hdsv"
      },
      "execution_count": null,
      "outputs": []
    },
    {
      "cell_type": "markdown",
      "source": [
        "RAFAEL"
      ],
      "metadata": {
        "id": "9TunnSoKhePW"
      }
    },
    {
      "cell_type": "code",
      "source": [
        "#Tú código aqui\n",
        "\n"
      ],
      "metadata": {
        "id": "LoLtCttzhgd2"
      },
      "execution_count": null,
      "outputs": []
    },
    {
      "cell_type": "markdown",
      "source": [
        "ALONDRA AMAYRANI "
      ],
      "metadata": {
        "id": "zrFWl2x3hgyd"
      }
    },
    {
      "cell_type": "code",
      "source": [
        "#Tú código aqui\n"
      ],
      "metadata": {
        "id": "qlTA9ndahjFu"
      },
      "execution_count": null,
      "outputs": []
    },
    {
      "cell_type": "markdown",
      "source": [
        "IVAN MICHEL"
      ],
      "metadata": {
        "id": "NEF9C3lVhj7O"
      }
    },
    {
      "cell_type": "code",
      "source": [
        "#Tú código aqui\n"
      ],
      "metadata": {
        "id": "G4HknJ5ahoIO"
      },
      "execution_count": null,
      "outputs": []
    },
    {
      "cell_type": "markdown",
      "source": [
        "ISAAC ALBERTO"
      ],
      "metadata": {
        "id": "t0MYCtQUhoo3"
      }
    },
    {
      "cell_type": "markdown",
      "source": [
        "Desarrollar un programa que conste de una clase padre Cuenta y dos subclases PlazoFijo y CajaAhorro. Definir los atributos titular y cantidad y un método para imprimir los datos en la clase Cuenta. La clase CajaAhorro tendrá un método para heredar los datos y uno para mostrar la información.\n",
        "\n",
        "La clase PlazoFijo tendrá dos atributos propios, plazo e interés. Tendrá un método para obtener el importe del interés (cantidad*interés/100) y otro método para mostrar la información, datos del titular plazo, interés y total de interés.\n",
        "\n",
        "Crear al menos un objeto de cada subclase."
      ],
      "metadata": {
        "id": "F-0I6GJT7yiE"
      }
    },
    {
      "cell_type": "code",
      "source": [
        "#Tú código aqui\n",
        "class Cuenta:\n",
        "  def __init__ (self,titular,cantidad):\n",
        "    self.__titular=titular\n",
        "    self.__cantidad=cantidad\n",
        "  \n",
        "  @property\n",
        "  def titular(self):\n",
        "    return self.__titular\n",
        "  \n",
        "  @titular.setter #Propiedad SETTER\n",
        "  def titular(self, nuevotitular):\n",
        "      return self.__titular\n",
        "\n",
        "  @property\n",
        "  def cantidad(self):\n",
        "    return self.__cantidad\n",
        "  \n",
        "  @cantidad.setter #Propiedad SETTER\n",
        "  def cantidad(self, nuevacantidad):\n",
        "      return self.__cantidad\n",
        "\n",
        "  \n",
        "  def mostrar(self):\n",
        "    return \"Titular: \" + self.__titular + \" - Cantidad: \"+ self.__cantidad\n",
        "\n",
        "class Caja_ahorro(Cuenta):\n",
        "  def __init__ (self,titular,cantidad):\n",
        "    self.__titular=titular\n",
        "    self.__cantidad=cantidad\n",
        "\n",
        "class Plazo_fijo(Cuenta):\n",
        "  def __init__(self,titular,cantidad, plazo,interes):\n",
        "    super().__init__(titular,cantidad)\n",
        "    self.__plazo = plazo\n",
        "    self.__interes = interes\n",
        "\n",
        "  @property\n",
        "  def plazo(self):\n",
        "    return self.__plazo\n",
        "   \n",
        "  @plazo.setter #Propiedad SETTER\n",
        "  def plazo(self, nuevotitular):\n",
        "      return self.__plazo\n",
        "\n",
        "  @property\n",
        "  def interes(self):\n",
        "    return self.__interes\n",
        "  \n",
        "  @interes.setter #Propiedad SETTER\n",
        "  def interes(self, nuevacantidad):\n",
        "      return self.__interes\n",
        "\n",
        "\n",
        "cuenta1=Cuenta(\"Jorge Carreño\", \"5265489\")\n",
        "cuenta1.mostrar()"
      ],
      "metadata": {
        "colab": {
          "base_uri": "https://localhost:8080/",
          "height": 36
        },
        "id": "OWPPDsKYqpCj",
        "outputId": "508cef91-1b11-4b0e-beb4-43f569b2cdb6"
      },
      "execution_count": null,
      "outputs": [
        {
          "output_type": "execute_result",
          "data": {
            "text/plain": [
              "'Titular: Jorge Carreño - Cantidad: 5265489'"
            ],
            "application/vnd.google.colaboratory.intrinsic+json": {
              "type": "string"
            }
          },
          "metadata": {},
          "execution_count": 4
        }
      ]
    },
    {
      "cell_type": "markdown",
      "source": [
        "JESÚS ALONSO"
      ],
      "metadata": {
        "id": "eB7zoFlGhsnQ"
      }
    },
    {
      "cell_type": "code",
      "execution_count": null,
      "metadata": {
        "colab": {
          "base_uri": "https://localhost:8080/"
        },
        "id": "7WdcXwz9t7iD",
        "outputId": "151bd55e-4146-49ed-a3c0-38af209e7131"
      },
      "outputs": [
        {
          "output_type": "stream",
          "name": "stdout",
          "text": [
            "El dato actualizado es:  Armando Alemán\n",
            "Nombre Titular: Armando Alemán\n",
            "Saldo en la cuenta: 10000\n",
            "\n",
            "Nombre Titular: Ana Peralata\n",
            "Saldo en la cuenta: 15000\n",
            "\n",
            "El valor del importe del interés es: 1000.0 \n",
            "\n",
            "Nombre del Titular: Arnau Contreras\n",
            "Saldo: 10000\n",
            "Plazo: 12\n",
            "Tasa de interés: 10\n",
            "Total de interés: 12000.0 \n",
            "\n"
          ]
        }
      ],
      "source": [
        "#Tu código aqui\n",
        "\n",
        "class Cuenta:\n",
        "  def __init__ (self,titular,cantidad):\n",
        "    self.__titular = titular\n",
        "    self.__cantidad = cantidad\n",
        "\n",
        "  @property\n",
        "  def titular(self):\n",
        "    return self.__titular\n",
        "\n",
        "  @titular.setter \n",
        "  def titular(self, actual):\n",
        "    self.__titular = actual\n",
        "    print(\"El dato actualizado es: \", self.__titular)\n",
        "\n",
        "  @property\n",
        "  def cantidad(self):\n",
        "    return self.__cantidad\n",
        "\n",
        "  @cantidad.setter \n",
        "  def cantidad(self, actual):\n",
        "    self.__cantidad = actual\n",
        "    print(\"El dato actualizado es: \", self.__cantidad)   \n",
        "  \n",
        "  def imprimir_datos(self):\n",
        "    print(f'''Nombre Titular: {self.titular}\n",
        "Saldo en la cuenta: {self.cantidad}\\n''')\n",
        "\n",
        "cuenta1=Cuenta(\"Armando Palomas\",10000)\n",
        "cuenta1.titular\n",
        "cuenta1.titular = \"Armando Alemán\"\n",
        "cuenta1.imprimir_datos()\n",
        "\n",
        "class CajaAhorro(Cuenta):\n",
        "# Aquí se supone, a mi entendendimiento, ya no es necesario generar otro metodo para imprimir, porque es una clase heredada completamente.\n",
        "  cajaAhorro1=CajaAhorro(\"Ana Peralata\", 15000)\n",
        "  cajaAhorro1.imprimir_datos()\n",
        "\n",
        "class PlazoFijo(Cuenta):\n",
        "  def __init__ (self,titular,cantidad, plazo, interes):\n",
        "    self.__plazo = plazo\n",
        "    self.__interes = interes\n",
        "    super().__init__(titular,cantidad)\n",
        "  \n",
        "  @property\n",
        "  def plazo(self):\n",
        "    return self.__plazo\n",
        "  \n",
        "  @plazo.setter \n",
        "  def plazo(self, nuevo):\n",
        "    self.__plazo = nuevo\n",
        "    print(\"El nuevo plazo es: \", self.__plazo)\n",
        "\n",
        "  @property\n",
        "  def interes(self):\n",
        "    return self.__interes\n",
        "  \n",
        "  @interes.setter \n",
        "  def interes(self, tasa):\n",
        "    self.__interes = tasa\n",
        "    print(\"La nueva tasa de interés es: \", self.__interes)\n",
        "\n",
        "  def importe_interes(self):\n",
        "    return (self.cantidad*self.interes)/100\n",
        "  \n",
        "  def mostrar_datos(self):\n",
        "    print(f'''Nombre del Titular: {self.titular}\n",
        "Saldo: {self.cantidad}\n",
        "Plazo: {self.plazo}\n",
        "Tasa de interés: {self.interes}\n",
        "Total de interés: {((self.cantidad*self.interes)/100)*self.plazo} \\n''') #En realidad no se cual sería la forma correcta de incluir el método para que lo incluya enn el método mostrar_datos\n",
        "\n",
        "plazofijo1=PlazoFijo(\"Arnau Contreras\", 10000, 12, 10)\n",
        "\n",
        "print(\"El valor del importe del interés es:\",plazofijo1.importe_interes(),\"\\n\")\n",
        "\n",
        "plazofijo1.mostrar_datos()\n",
        "\n"
      ]
    },
    {
      "cell_type": "markdown",
      "source": [
        "OMAR"
      ],
      "metadata": {
        "id": "vGhWv4ejhvrm"
      }
    },
    {
      "cell_type": "code",
      "source": [
        "#Tú código aqui"
      ],
      "metadata": {
        "id": "feRfmxD_hyem"
      },
      "execution_count": null,
      "outputs": []
    }
  ]
}