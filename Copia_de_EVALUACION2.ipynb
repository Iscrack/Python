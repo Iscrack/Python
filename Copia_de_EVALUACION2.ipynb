{
  "nbformat": 4,
  "nbformat_minor": 0,
  "metadata": {
    "colab": {
      "name": "Copia de EVALUACION2.ipynb",
      "provenance": [],
      "collapsed_sections": [],
      "include_colab_link": true
    },
    "kernelspec": {
      "name": "python3",
      "display_name": "Python 3"
    },
    "language_info": {
      "name": "python"
    }
  },
  "cells": [
    {
      "cell_type": "markdown",
      "metadata": {
        "id": "view-in-github",
        "colab_type": "text"
      },
      "source": [
        "<a href=\"https://colab.research.google.com/github/Iscrack/Python/blob/main/Copia_de_EVALUACION2.ipynb\" target=\"_parent\"><img src=\"https://colab.research.google.com/assets/colab-badge.svg\" alt=\"Open In Colab\"/></a>"
      ]
    },
    {
      "cell_type": "markdown",
      "source": [
        "# Práctica 2. \n",
        "6 puntos\n",
        "\n",
        "### 2 Práctica  Números enteros y reales.\n",
        "\n",
        "Realiza los ejercicios de acuerdo a las indicaciones\n",
        "\n",
        "2.1 Ejercicio 1 (1.5 puntos)\n",
        "\n",
        "Escribir un programa que convierta un valor dado en grados Fahrenheit a grados Celsius.\n"
      ],
      "metadata": {
        "id": "sZwziQp3dWqo"
      }
    },
    {
      "cell_type": "code",
      "source": [
        "cels = 0\n",
        "fahren = 0\n",
        "\n",
        "print(\"Convertir grados Fahrenheit a Celsius\")\n",
        "fahren = float(input(\"Ingrese los grados Fahrenheit: \"))\n",
        "celsius=float((fahren-32)*5/9)\n",
        "print(fahren, \"grados Faherenheit son:\", celsius, \"grados Celsius\")\n",
        "\n",
        "\n"
      ],
      "metadata": {
        "id": "qUzRXM28nO30"
      },
      "execution_count": null,
      "outputs": []
    },
    {
      "cell_type": "markdown",
      "source": [
        "2.2 Ejercicio 2 (1.5 puntos)\n",
        "\n",
        "Dados dos números, mostrar la suma, resta, división y multiplicación de ambos.\n",
        "\n"
      ],
      "metadata": {
        "id": "8ubdyEbEdMeW"
      }
    },
    {
      "cell_type": "code",
      "source": [
        "num1 = 0\n",
        "num2 = 0\n",
        "print(\"Ingrese dos números para conocer su suma, resta, multiplicación y división\")\n",
        "num1 = float(input(\"Numero 1: \"))\n",
        "num2 = float(input(\"Numero 2: \"))\n",
        "print(\"El resultado es \", \"Suma:\", num1+num2, \"Resta: \", num1-num2, \"Multiplicación: \", num1*num2, \"División: \", num1/num2)"
      ],
      "metadata": {
        "id": "XQEFFzmSdPCH"
      },
      "execution_count": null,
      "outputs": []
    },
    {
      "cell_type": "markdown",
      "source": [
        "2.3 Ejercicio 3 (1.5 puntos)\n",
        "\n",
        "Calcular el perímetro y área de un rectángulo dada su base y su altura. Respuesta:"
      ],
      "metadata": {
        "id": "cVDihbpZdRa6"
      }
    },
    {
      "cell_type": "code",
      "source": [
        "altu = 0\n",
        "base = 0\n",
        "\n",
        "print(\"Conocer el perímetro y el área de un rectángulo\")\n",
        "altu = float(input(\"Ingrese la altura \"))\n",
        "base = float(input(\"Ingrese la base \"))\n",
        "print(\"Los resultados son: \", \"Perímetro:\",2*(altu+base), \"Área:\",altu*base)\n",
        "\n"
      ],
      "metadata": {
        "id": "MJ849GWadSGN"
      },
      "execution_count": null,
      "outputs": []
    }
  ]
}