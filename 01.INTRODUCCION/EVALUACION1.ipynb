{
  "nbformat": 4,
  "nbformat_minor": 0,
  "metadata": {
    "colab": {
      "name": "Copia de EVALUACION1.ipynb",
      "provenance": [],
      "collapsed_sections": [],
      "include_colab_link": true
    },
    "kernelspec": {
      "name": "python3",
      "display_name": "Python 3"
    },
    "language_info": {
      "name": "python"
    }
  },
  "cells": [
    {
      "cell_type": "markdown",
      "metadata": {
        "id": "view-in-github",
        "colab_type": "text"
      },
      "source": [
        "<a href=\"https://colab.research.google.com/github/Iscrack/Python/blob/main/Copia_de_EVALUACION1.ipynb\" target=\"_parent\"><img src=\"https://colab.research.google.com/assets/colab-badge.svg\" alt=\"Open In Colab\"/></a>"
      ]
    },
    {
      "cell_type": "markdown",
      "source": [
        "# Práctica 1. \n",
        "6 puntos\n",
        "\n",
        "1 Práctica 1: Conociendo Python.\n",
        "\n",
        "Objetivo: Identificar el nivel de comprensión de los conceptos mediante preguntas abiertas.\n",
        "\n",
        "Responder las siguientes preguntas:\n",
        "\n"
      ],
      "metadata": {
        "id": "j1eqhlwTACMT"
      }
    },
    {
      "cell_type": "markdown",
      "source": [
        "\n",
        "1.1 ¿Qué es python? (2 puntos)\n",
        "\n",
        "Es un lengaje de programación interpretado, altamente tipado y multiplataforma y orientado a objetos. \n",
        "\n",
        "1.2 ¿Es multiplataforma en que sistemas operativos funciona ? (2 puntos)\n",
        "UNIX, Solaris, GNU/Linux, DOS, Windows, macOS\n",
        " \n",
        "1.3 Ejercicio 1 (2 puntos) Escribir un programa que pregunte al usuario su nombre, y luego lo salude.\n"
      ],
      "metadata": {
        "id": "8rolc7oNANvo"
      }
    },
    {
      "cell_type": "code",
      "source": [
        "nombre = input(\"¿Cuál es tu nombre?\")\n",
        "print (\"Hola\", nombre)"
      ],
      "metadata": {
        "id": "OpcH1h40AXRD"
      },
      "execution_count": null,
      "outputs": []
    }
  ]
}
